{
  "cells": [
    {
      "metadata": {
        "trusted": true
      },
      "cell_type": "code",
      "source": "import azureml.core\n\nprint(\"This notebook was created using version 1.0.6 of the Azure ML SDK\")\nprint(\"You are currently using version\", azureml.core.VERSION, \"of the Azure ML SDK\")",
      "execution_count": 2,
      "outputs": [
        {
          "output_type": "stream",
          "text": "This notebook was created using version 1.0.6 of the Azure ML SDK\nYou are currently using version 1.0.2 of the Azure ML SDK\n",
          "name": "stdout"
        }
      ]
    },
    {
      "metadata": {
        "trusted": true
      },
      "cell_type": "code",
      "source": "import os\n\nsubscription_id = os.getenv(\"SUBSCRIPTION_ID\", default=\"aed7de9a-a600-4d4e-a915-88c76aee3246\")\nresource_group = os.getenv(\"RESOURCE_GROUP\", default=\"skillup\")\nworkspace_name = os.getenv(\"WORKSPACE_NAME\", default=\"ai-devops-aml\")\nworkspace_region = os.getenv(\"WORKSPACE_REGION\", default=\"eastus2\")",
      "execution_count": 3,
      "outputs": []
    },
    {
      "metadata": {
        "trusted": true
      },
      "cell_type": "code",
      "source": "from azureml.core import Workspace\n\ntry:\n    ws = Workspace(subscription_id = subscription_id, resource_group = resource_group, workspace_name = workspace_name)\n    # write the details of the workspace to a configuration file to the notebook library\n    ws.write_config()\n    print(\"Workspace configuration succeeded. Skip the workspace creation steps below\")\nexcept:\n    print(\"Workspace not accessible. Change your parameters or create a new workspace below\")",
      "execution_count": 4,
      "outputs": [
        {
          "output_type": "stream",
          "text": "Wrote the config file config.json to: /home/nbuser/library/aml_config/config.json\nWorkspace configuration succeeded. Skip the workspace creation steps below\n",
          "name": "stdout"
        }
      ]
    },
    {
      "metadata": {
        "trusted": true
      },
      "cell_type": "code",
      "source": "from azureml.core.compute import ComputeTarget, AmlCompute\nfrom azureml.core.compute_target import ComputeTargetException\n\n# Choose a name for your CPU cluster\ncpu_cluster_name = \"cpucluster\"\n\n# Verify that cluster does not exist already\ntry:\n    cpu_cluster = ComputeTarget(workspace=ws, name=cpu_cluster_name)\n    print(\"Found existing cpucluster\")\nexcept ComputeTargetException:\n    print(\"Creating new cpucluster\")\n    \n    # Specify the configuration for the new cluster\n    compute_config = AmlCompute.provisioning_configuration(vm_size=\"STANDARD_D2_V2\",\n                                                           min_nodes=0,\n                                                           max_nodes=4)\n\n    # Create the cluster with the specified name and configuration\n    cpu_cluster = ComputeTarget.create(ws, cpu_cluster_name, compute_config)\n    \n    # Wait for the cluster to complete, show the output log\n    cpu_cluster.wait_for_completion(show_output=True)",
      "execution_count": 5,
      "outputs": [
        {
          "output_type": "stream",
          "text": "Creating new cpucluster\nCreating\nSucceeded\nAmlCompute wait for completion finished\nMinimum number of nodes requested have been provisioned\n",
          "name": "stdout"
        }
      ]
    },
    {
      "metadata": {
        "trusted": true
      },
      "cell_type": "code",
      "source": "",
      "execution_count": null,
      "outputs": []
    }
  ],
  "metadata": {
    "kernelspec": {
      "name": "python36",
      "display_name": "Python 3.6",
      "language": "python"
    },
    "language_info": {
      "mimetype": "text/x-python",
      "nbconvert_exporter": "python",
      "name": "python",
      "pygments_lexer": "ipython3",
      "version": "3.6.6",
      "file_extension": ".py",
      "codemirror_mode": {
        "version": 3,
        "name": "ipython"
      }
    }
  },
  "nbformat": 4,
  "nbformat_minor": 2
}